{
 "cells": [
  {
   "cell_type": "code",
   "execution_count": 26,
   "metadata": {},
   "outputs": [
    {
     "data": {
      "text/plain": [
       "[-5, 3, 2, 1, -3, -3, 2, 2, 7]"
      ]
     },
     "execution_count": 26,
     "metadata": {},
     "output_type": "execute_result"
    }
   ],
   "source": [
    "# Bubble Sort\n",
    "# Time: O(n^2), Space:O(1)\n",
    "\n",
    "A = [-5, 3, 2, 1, -3, -3, 7, 2, 2]\n",
    "\n",
    "def bubble_sort(arr):\n",
    "    n = len(arr)\n",
    "    flag = True\n",
    "    while flag:\n",
    "        flag = False\n",
    "        for i in range(1,n):\n",
    "            if arr[i-1] > arr[1]:\n",
    "                flag = True\n",
    "                arr[i-1], arr[i] = arr[i], arr[i-1]\n",
    "\n",
    "bubble_sort(A)\n",
    "A"
   ]
  },
  {
   "cell_type": "code",
   "execution_count": 27,
   "metadata": {},
   "outputs": [
    {
     "data": {
      "text/plain": [
       "[-5, -3, -3, 1, 2, 2, 2, 3, 7]"
      ]
     },
     "execution_count": 27,
     "metadata": {},
     "output_type": "execute_result"
    }
   ],
   "source": [
    "# Insertion Sort\n",
    "# Time: O(n^2), Space: O(1)\n",
    "\n",
    "B = [-5, 3, 2, 1, -3, -3, 7, 2, 2]\n",
    "\n",
    "def insertion_sort(arr):\n",
    "    n = len(arr)\n",
    "    for i in range(1,n):\n",
    "        for j in range(i, 0, -1):\n",
    "            if arr[j-1] > arr[j]:\n",
    "                arr[j-1], arr[j] = arr[j], arr[j-1]\n",
    "            else:\n",
    "                break\n",
    "\n",
    "insertion_sort(B)\n",
    "B"
   ]
  },
  {
   "cell_type": "code",
   "execution_count": 28,
   "metadata": {},
   "outputs": [
    {
     "data": {
      "text/plain": [
       "[-5, -3, -3, 1, 2, 2, 2, 3, 7]"
      ]
     },
     "execution_count": 28,
     "metadata": {},
     "output_type": "execute_result"
    }
   ],
   "source": [
    "# Selection Sort\n",
    "# Time: O(n^2), Space: O(1)\n",
    "\n",
    "C = [-5, 3, 2, 1, -3, -3, 7, 2, 2]\n",
    "\n",
    "def selection_sort(arr):\n",
    "    n = len(arr)\n",
    "    for i in range(n):\n",
    "        min_index = i\n",
    "        for j in range(i+1, n):\n",
    "            if arr[j] < arr[min_index]:\n",
    "                min_index = j\n",
    "        arr[i], arr[min_index] = arr[min_index], arr[i]\n",
    "\n",
    "selection_sort(C)\n",
    "C"
   ]
  },
  {
   "cell_type": "code",
   "execution_count": 29,
   "metadata": {},
   "outputs": [
    {
     "data": {
      "text/plain": [
       "[-5, -3, -3, 1, 2, 2, 2, 3, 7]"
      ]
     },
     "execution_count": 29,
     "metadata": {},
     "output_type": "execute_result"
    }
   ],
   "source": [
    "# Merge Sort\n",
    "# Time: O(n log n), Space: O(n) - can be log n space but harder to write\n",
    "\n",
    "D = [-5, 3, 2, 1, -3, -3, 7, 2, 2]\n",
    "\n",
    "def merge_sort(arr):\n",
    "    n = len(arr)\n",
    "\n",
    "    if n == 1:\n",
    "        return arr\n",
    "\n",
    "    m = len(arr) // 2\n",
    "    L = arr[:m]\n",
    "    R = arr[m:] \n",
    "\n",
    "    L = merge_sort(L)\n",
    "    R = merge_sort(R)\n",
    "    l, r = 0, 0\n",
    "    L_len = len(L)\n",
    "    R_len = len(R)\n",
    "\n",
    "    sorted_arr = [0] * n\n",
    "    i = 0\n",
    "    \n",
    "    while l < L_len and r < R_len:\n",
    "        if L[l] < R[r]:\n",
    "            sorted_arr[i] = L[l]\n",
    "            l += 1\n",
    "        else:\n",
    "            sorted_arr[i] = R[r]\n",
    "            r += 1\n",
    "\n",
    "        i += 1\n",
    "    \n",
    "    while l < L_len:\n",
    "        sorted_arr[i] = L[l]\n",
    "        l += 1\n",
    "        i += 1\n",
    "\n",
    "    while r < R_len:\n",
    "        sorted_arr[i] = R[r]\n",
    "        r += 1\n",
    "        i += 1\n",
    "\n",
    "    return sorted_arr\n",
    "\n",
    "merge_sort(D)\n"
   ]
  },
  {
   "cell_type": "code",
   "execution_count": 30,
   "metadata": {},
   "outputs": [
    {
     "data": {
      "text/plain": [
       "[-5, -3, -3, 1, 2, 2, 2, 3, 7]"
      ]
     },
     "execution_count": 30,
     "metadata": {},
     "output_type": "execute_result"
    }
   ],
   "source": [
    "# Quick Sort\n",
    "# Time: O(n log n) (Average case, technically Worst vase is O(n^2))\n",
    "# Space: O(n)\n",
    "\n",
    "E = [-5, 3, 2, 1, -3, -3, 7, 2, 2]\n",
    "\n",
    "def quick_sort(arr):\n",
    "    if len(arr) <= 1:\n",
    "        return arr\n",
    "    \n",
    "    p = arr[-1]\n",
    "\n",
    "    L = [x for x in arr[:-1] if x <= p]\n",
    "    R = [x for x in arr[:-1] if x > p]\n",
    "\n",
    "    L = quick_sort(L)\n",
    "    R = quick_sort(R)\n",
    "\n",
    "    return L + [p] + R\n",
    "\n",
    "quick_sort(E)"
   ]
  },
  {
   "cell_type": "code",
   "execution_count": 31,
   "metadata": {},
   "outputs": [
    {
     "data": {
      "text/plain": [
       "[1, 2, 2, 2, 3, 3, 3, 5, 7]"
      ]
     },
     "execution_count": 31,
     "metadata": {},
     "output_type": "execute_result"
    }
   ],
   "source": [
    "# Counting Sort\n",
    "# Time: O(n + k) where k is the range of data\n",
    "\n",
    "# Note - This can be written with negative arrays, but we'll stick to positive arrays,\n",
    "# so k is the max of the array\n",
    "\n",
    "# Space: O(k)\n",
    "\n",
    "F = [5, 3, 2, 1, 3, 3, 7, 2, 2]\n",
    "\n",
    "def counting_sort(arr):\n",
    "    n = len(arr)\n",
    "    maxx = max(arr)\n",
    "    counts = [0] * (maxx + 1)\n",
    "\n",
    "    for x in arr:\n",
    "        counts[x] += 1\n",
    "\n",
    "    i = 0\n",
    "    for c in range(maxx + 1):\n",
    "        while counts[c] > 0:\n",
    "            arr[i] = c\n",
    "            i += 1\n",
    "            counts[c] -= 1\n",
    "\n",
    "counting_sort(F)\n",
    "F"
   ]
  },
  {
   "cell_type": "code",
   "execution_count": 32,
   "metadata": {},
   "outputs": [
    {
     "data": {
      "text/plain": [
       "[-5, -3, -3, 1, 2, 2, 2, 3, 7]"
      ]
     },
     "execution_count": 32,
     "metadata": {},
     "output_type": "execute_result"
    }
   ],
   "source": [
    "# What we usually do in practice\n",
    "\n",
    "# Time complexity is O(n log n) from Tim Sort\n",
    "\n",
    "G = [-5, 3, 2, 1, -3, -3, 7, 2, 2]\n",
    "\n",
    "# In place (constant space)\n",
    "G.sort()\n",
    "\n",
    "G"
   ]
  },
  {
   "cell_type": "code",
   "execution_count": 33,
   "metadata": {},
   "outputs": [
    {
     "data": {
      "text/plain": [
       "([-5, 3, 2, 1, -3, -3, 7, 2, 2], [-5, -3, -3, 1, 2, 2, 2, 3, 7])"
      ]
     },
     "execution_count": 33,
     "metadata": {},
     "output_type": "execute_result"
    }
   ],
   "source": [
    "# Get new sorted array - O(n) space\n",
    "\n",
    "H = [-5, 3, 2, 1, -3, -3, 7, 2, 2]\n",
    "\n",
    "sorted_H = sorted(H)\n",
    "\n",
    "H, sorted_H"
   ]
  },
  {
   "cell_type": "code",
   "execution_count": 34,
   "metadata": {},
   "outputs": [
    {
     "data": {
      "text/plain": [
       "[(-5, 3), (-3, -3), (2, 1), (2, 2), (7, 2)]"
      ]
     },
     "execution_count": 34,
     "metadata": {},
     "output_type": "execute_result"
    }
   ],
   "source": [
    "# Sort array of tuples \n",
    "\n",
    "I = [(-5, 3), (2, 1), (-3, -3), (7, 2), (2, 2)]\n",
    "\n",
    "sorted_I = sorted(I, key = lambda t: t[0]) # the number is based on the positon of the tuple you want to sort\n",
    "                                           # negative for reverse\n",
    "sorted_I"
   ]
  },
  {
   "cell_type": "code",
   "execution_count": null,
   "metadata": {},
   "outputs": [],
   "source": []
  }
 ],
 "metadata": {
  "kernelspec": {
   "display_name": "Python 3",
   "language": "python",
   "name": "python3"
  },
  "language_info": {
   "codemirror_mode": {
    "name": "ipython",
    "version": 3
   },
   "file_extension": ".py",
   "mimetype": "text/x-python",
   "name": "python",
   "nbconvert_exporter": "python",
   "pygments_lexer": "ipython3",
   "version": "3.12.6"
  }
 },
 "nbformat": 4,
 "nbformat_minor": 2
}
