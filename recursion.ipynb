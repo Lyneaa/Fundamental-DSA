{
 "cells": [
  {
   "cell_type": "code",
   "execution_count": 12,
   "metadata": {},
   "outputs": [
    {
     "data": {
      "text/plain": [
       "5"
      ]
     },
     "execution_count": 12,
     "metadata": {},
     "output_type": "execute_result"
    }
   ],
   "source": [
    "# Fibonacci\n",
    "# F(0) = 0\n",
    "# F(1) = 1\n",
    "# n > 1 F(n) = F(n-1) + F(n-2)\n",
    "\n",
    "# Time: O(2^n), Space: O(n)\n",
    "def F(n):\n",
    "    if n == 0:\n",
    "        return 0\n",
    "    elif n == 1:\n",
    "        return 1\n",
    "    else:\n",
    "        return F(n-1) + F(n-2)\n",
    "    \n",
    "F(5)"
   ]
  },
  {
   "cell_type": "code",
   "execution_count": 13,
   "metadata": {},
   "outputs": [
    {
     "name": "stdout",
     "output_type": "stream",
     "text": [
      "1\n"
     ]
    }
   ],
   "source": [
    "# Singly Linked Lists\n",
    "\n",
    "class SinglyNode:\n",
    "\n",
    "    def __init__(self, val, next=None):\n",
    "        self.val = val\n",
    "        self.next = next\n",
    "\n",
    "    def __str__(self):\n",
    "        return str(self.val)\n",
    "    \n",
    "Head = SinglyNode(1)\n",
    "A = SinglyNode(3)\n",
    "B = SinglyNode(4)\n",
    "C = SinglyNode(7)\n",
    "\n",
    "Head.next = A\n",
    "A.next = B\n",
    "B.next = C\n",
    "\n",
    "print(Head)"
   ]
  },
  {
   "cell_type": "code",
   "execution_count": 17,
   "metadata": {},
   "outputs": [
    {
     "name": "stdout",
     "output_type": "stream",
     "text": [
      "7\n",
      "4\n",
      "3\n",
      "1\n"
     ]
    }
   ],
   "source": [
    "# Linked Lists\n",
    "\n",
    "def reverse(node):\n",
    "    if not node:\n",
    "        return\n",
    "    \n",
    "    reverse(node.next)\n",
    "    print(node)\n",
    "\n",
    "reverse(Head)"
   ]
  },
  {
   "cell_type": "code",
   "execution_count": null,
   "metadata": {},
   "outputs": [],
   "source": []
  }
 ],
 "metadata": {
  "kernelspec": {
   "display_name": "Python 3",
   "language": "python",
   "name": "python3"
  },
  "language_info": {
   "codemirror_mode": {
    "name": "ipython",
    "version": 3
   },
   "file_extension": ".py",
   "mimetype": "text/x-python",
   "name": "python",
   "nbconvert_exporter": "python",
   "pygments_lexer": "ipython3",
   "version": "3.12.6"
  }
 },
 "nbformat": 4,
 "nbformat_minor": 2
}
