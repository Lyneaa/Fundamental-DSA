{
 "cells": [
  {
   "cell_type": "code",
   "execution_count": 2,
   "metadata": {},
   "outputs": [],
   "source": [
    "# Binary Trees\n",
    "class TreeNode:\n",
    "    def __init__(self, val, left=None, right=None):\n",
    "        self.val = val\n",
    "        self.left = left\n",
    "        self.right = right\n",
    "\n",
    "    def __str__(self):\n",
    "        return str(self.val)"
   ]
  },
  {
   "cell_type": "code",
   "execution_count": 3,
   "metadata": {},
   "outputs": [
    {
     "name": "stdout",
     "output_type": "stream",
     "text": [
      "1\n"
     ]
    }
   ],
   "source": [
    "#       1\n",
    "#   2       3\n",
    "#  4 5    10\n",
    "\n",
    "A = TreeNode(1)\n",
    "B = TreeNode(2)\n",
    "C = TreeNode(3)\n",
    "D = TreeNode(4)\n",
    "E = TreeNode(5)\n",
    "F = TreeNode(10)\n",
    "\n",
    "A.left = B\n",
    "A.right = C\n",
    "B.left = D\n",
    "B.right = E\n",
    "C.left = F\n",
    "\n",
    "print(A)"
   ]
  },
  {
   "cell_type": "code",
   "execution_count": 4,
   "metadata": {},
   "outputs": [
    {
     "name": "stdout",
     "output_type": "stream",
     "text": [
      "1\n",
      "2\n",
      "4\n",
      "5\n",
      "3\n",
      "10\n"
     ]
    }
   ],
   "source": [
    "# Recursive Pre Order Traversal (DFS)\n",
    "# Time: O(n), Space: O(n)\n",
    "\n",
    "def pre_order(node):\n",
    "    if not node:\n",
    "        return\n",
    "    \n",
    "    print(node)\n",
    "    pre_order(node.left)\n",
    "    pre_order(node.right)\n",
    "\n",
    "pre_order(A)"
   ]
  },
  {
   "cell_type": "code",
   "execution_count": 5,
   "metadata": {},
   "outputs": [
    {
     "name": "stdout",
     "output_type": "stream",
     "text": [
      "4\n",
      "2\n",
      "5\n",
      "1\n",
      "10\n",
      "3\n"
     ]
    }
   ],
   "source": [
    "# Recursive In Order Traversal (DFS)\n",
    "# Time: O(n), Space: O(n)\n",
    "\n",
    "def in_order(node):\n",
    "    if not node:\n",
    "        return\n",
    "    \n",
    "    in_order(node.left)\n",
    "    print(node)\n",
    "    in_order(node.right)\n",
    "\n",
    "in_order(A)"
   ]
  },
  {
   "cell_type": "code",
   "execution_count": 6,
   "metadata": {},
   "outputs": [
    {
     "name": "stdout",
     "output_type": "stream",
     "text": [
      "4\n",
      "5\n",
      "2\n",
      "10\n",
      "3\n",
      "1\n"
     ]
    }
   ],
   "source": [
    "# Recursive Post Order Traversal (DFS)\n",
    "# Time: O(n), Space: O(n)\n",
    "\n",
    "def post_order(node):\n",
    "    if not node:\n",
    "        return\n",
    "    \n",
    "    post_order(node.left)\n",
    "    post_order(node.right)\n",
    "    print(node)\n",
    "\n",
    "post_order(A)"
   ]
  },
  {
   "cell_type": "code",
   "execution_count": 7,
   "metadata": {},
   "outputs": [
    {
     "name": "stdout",
     "output_type": "stream",
     "text": [
      "1\n",
      "2\n",
      "4\n",
      "5\n",
      "3\n",
      "10\n"
     ]
    }
   ],
   "source": [
    "# Iterative Pre Order Traversal (DFS)\n",
    "# Time: O(n), Space: O(n)\n",
    "\n",
    "def pre_order_iterative(node):\n",
    "    stk = [node]\n",
    "\n",
    "    while stk:\n",
    "        node = stk.pop()\n",
    "        print(node)\n",
    "        if node.right: stk.append(node.right)\n",
    "        if node.left: stk.append(node.left)\n",
    "\n",
    "pre_order_iterative(A)\n"
   ]
  },
  {
   "cell_type": "code",
   "execution_count": 8,
   "metadata": {},
   "outputs": [
    {
     "name": "stdout",
     "output_type": "stream",
     "text": [
      "1\n",
      "2\n",
      "3\n",
      "4\n",
      "5\n",
      "10\n"
     ]
    }
   ],
   "source": [
    "# Level Order Traversal (BFS)\n",
    "# Time: O(n), Space: O(n)\n",
    "from collections import deque\n",
    "\n",
    "def level_order(node):\n",
    "    q = deque()\n",
    "    q.append(node)\n",
    "\n",
    "    while q:\n",
    "        node = q.popleft()\n",
    "        print(node)\n",
    "        if node.left: q.append(node.left)\n",
    "        if node.right: q.append(node.right)\n",
    "\n",
    "level_order(A)"
   ]
  },
  {
   "cell_type": "code",
   "execution_count": 9,
   "metadata": {},
   "outputs": [
    {
     "data": {
      "text/plain": [
       "True"
      ]
     },
     "execution_count": 9,
     "metadata": {},
     "output_type": "execute_result"
    }
   ],
   "source": [
    "# Check if Value Exits (DFS)\n",
    "# Time: O(n), Space: O(n)\n",
    "\n",
    "def search(node, target):\n",
    "    if not node:\n",
    "        return False\n",
    "    \n",
    "    if node.val == target:\n",
    "        return True\n",
    "\n",
    "    return search(node.left, target) or search(node.right, target)\n",
    "\n",
    "search(A,5)"
   ]
  },
  {
   "cell_type": "code",
   "execution_count": 10,
   "metadata": {},
   "outputs": [
    {
     "name": "stdout",
     "output_type": "stream",
     "text": [
      "5\n"
     ]
    }
   ],
   "source": [
    "# Binary Search Trees (BSTs)\n",
    "#           5\n",
    "#       1       8\n",
    "#     -1 3     7 9\n",
    "\n",
    "A2 = TreeNode(5)\n",
    "B2 = TreeNode(1)\n",
    "C2 = TreeNode(8)\n",
    "D2 = TreeNode(-1)\n",
    "E2 = TreeNode(3)\n",
    "F2 = TreeNode(7)\n",
    "G2 = TreeNode(9)\n",
    "\n",
    "A2.left, A2.right = B2, C2\n",
    "B2.left, B2.right = D2, E2\n",
    "C2.left, C2.right = F2, G2\n",
    "\n",
    "print(A2)"
   ]
  },
  {
   "cell_type": "code",
   "execution_count": 11,
   "metadata": {},
   "outputs": [
    {
     "name": "stdout",
     "output_type": "stream",
     "text": [
      "-1\n",
      "1\n",
      "3\n",
      "5\n",
      "7\n",
      "8\n",
      "9\n"
     ]
    }
   ],
   "source": [
    "in_order(A2)"
   ]
  },
  {
   "cell_type": "code",
   "execution_count": 18,
   "metadata": {},
   "outputs": [
    {
     "data": {
      "text/plain": [
       "True"
      ]
     },
     "execution_count": 18,
     "metadata": {},
     "output_type": "execute_result"
    }
   ],
   "source": [
    "# Time: O(log n), Space: O(log n)\n",
    "\n",
    "def search_bst(node,target):\n",
    "    if not node:\n",
    "        return False\n",
    "    \n",
    "    if node.val == target:\n",
    "        return True\n",
    "\n",
    "    if target < node.val: return search_bst(node.left, target)\n",
    "    else: return search_bst(node.right,target)\n",
    "\n",
    "search_bst(A2, -1)\n"
   ]
  },
  {
   "cell_type": "code",
   "execution_count": null,
   "metadata": {},
   "outputs": [],
   "source": []
  }
 ],
 "metadata": {
  "kernelspec": {
   "display_name": "Python 3",
   "language": "python",
   "name": "python3"
  },
  "language_info": {
   "codemirror_mode": {
    "name": "ipython",
    "version": 3
   },
   "file_extension": ".py",
   "mimetype": "text/x-python",
   "name": "python",
   "nbconvert_exporter": "python",
   "pygments_lexer": "ipython3",
   "version": "3.12.6"
  }
 },
 "nbformat": 4,
 "nbformat_minor": 2
}
